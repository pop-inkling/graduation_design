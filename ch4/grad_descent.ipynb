{
  "nbformat": 4,
  "nbformat_minor": 0,
  "metadata": {
    "colab": {
      "provenance": [],
      "collapsed_sections": [],
      "authorship_tag": "ABX9TyNFoBzhdhZ23S6EPM6p1UJS",
      "include_colab_link": true
    },
    "kernelspec": {
      "name": "python3",
      "display_name": "Python 3"
    },
    "language_info": {
      "name": "python"
    }
  },
  "cells": [
    {
      "cell_type": "markdown",
      "metadata": {
        "id": "view-in-github",
        "colab_type": "text"
      },
      "source": [
        "<a href=\"https://colab.research.google.com/github/pop-inkling/graduation_design/blob/main/grad_descent.ipynb\" target=\"_parent\"><img src=\"https://colab.research.google.com/assets/colab-badge.svg\" alt=\"Open In Colab\"/></a>"
      ]
    },
    {
      "cell_type": "code",
      "execution_count": null,
      "metadata": {
        "colab": {
          "base_uri": "https://localhost:8080/"
        },
        "id": "u0clIdOl3n6o",
        "outputId": "76902d55-517b-4e74-da57-30e846aebf38"
      },
      "outputs": [
        {
          "output_type": "execute_result",
          "data": {
            "text/plain": [
              "array([-6.11110793e-10,  8.14814391e-10])"
            ]
          },
          "metadata": {},
          "execution_count": 1
        }
      ],
      "source": [
        "import numpy as np\n",
        "def numerical_gradient(f,x):\n",
        "    h = 1e-4\n",
        "    grad = np.zeros_like(x)\n",
        "    \n",
        "    for idx in range(x.size):\n",
        "        tmp_val = x[idx]\n",
        "        x[idx] = tmp_val + h \n",
        "        fxh1 = f(x)\n",
        "        \n",
        "        x[idx] = tmp_val - h\n",
        "        fxh2 = f(x)\n",
        "        \n",
        "        grad[idx] = (fxh1 - fxh2) / (2*h)\n",
        "        x[idx] = tmp_val\n",
        "        \n",
        "    return grad\n",
        "\n",
        "def gradient_descent(f,init_x,lr=0.01,step_sum=100):\n",
        "    x = init_x\n",
        "    \n",
        "    for i in range(step_sum):\n",
        "        grad = numerical_gradient(f,x)\n",
        "        x -=lr * grad\n",
        "        \n",
        "    return x\n",
        "\n",
        "\n",
        "def function_2(x):\n",
        "  return x[0]**2 + x[1]**2\n",
        "\n",
        "init_x = np.array([-3.0,4.0])\n",
        "gradient_descent(function_2,init_x=init_x,lr=0.1,step_sum=100)"
      ]
    }
  ]
}
